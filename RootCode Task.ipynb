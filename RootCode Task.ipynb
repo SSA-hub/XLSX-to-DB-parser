{
 "cells": [
  {
   "cell_type": "code",
   "execution_count": 95,
   "metadata": {},
   "outputs": [],
   "source": [
    "import pandas as pd\n",
    "from sqlalchemy import create_engine, text\n",
    "import json"
   ]
  },
  {
   "cell_type": "code",
   "execution_count": 96,
   "metadata": {},
   "outputs": [],
   "source": [
    "with open('appsettings.json', 'r') as config_file: #параметры хранятся в .json файле\n",
    "    config = json.load(config_file)\n",
    "    connection_string = config['postgres']['connectionstring'] #connection string для подключения к БД\n",
    "    if_exists_routes = config['if_exists_routes'] #что делать, если запись уже есть в Routes\n",
    "    if_exists_route_details = config['if_exists_route_details'] #что делать, если запись уже есть в RouteDetails"
   ]
  },
  {
   "cell_type": "code",
   "execution_count": 97,
   "metadata": {},
   "outputs": [],
   "source": [
    "engine = create_engine(connection_string)"
   ]
  },
  {
   "cell_type": "code",
   "execution_count": 98,
   "metadata": {},
   "outputs": [],
   "source": [
    "razb_uch = pd.read_excel(\"razb_uch.xlsx\") #считываем данные из .xlsx файла в pandas DataFrame"
   ]
  },
  {
   "cell_type": "code",
   "execution_count": 99,
   "metadata": {},
   "outputs": [],
   "source": [
    "#разбиваем данные на два DataFrame-а, чтобы записать каждый из них в соответсвующую таблицу\n",
    "#DataFrame маршрутов\n",
    "routes_df = razb_uch[razb_uch.columns[:13]] #нам необходимы первые 13 колонок\n",
    "routes_df = routes_df.drop_duplicates(ignore_index=True) #удаляем дубликаты (для каждой остановки будем хранить \n",
    "#ссылку на маршрут)\n",
    "routes_df.columns = routes_df.columns.str.lower() #переводим названия колонок в нижний регистр, т.к. в БД названия \n",
    "#столбцов и таблиц записаны именно в нижнем\n",
    "routes_df.set_index('id_uch_vost_pol', inplace=True) #устанавливаем индекс на поле, которое, судя по всему, им и является\n",
    "routes_df.to_sql('route', con=engine, if_exists=if_exists_routes) #записываем данные из DataFrame в таблицу Routes"
   ]
  },
  {
   "cell_type": "code",
   "execution_count": 100,
   "metadata": {},
   "outputs": [],
   "source": [
    "#DataFrmae отрезков пути между остановками\n",
    "routeDetails_df = razb_uch[razb_uch.columns[13:]] #сюда входят все столбцы, ачиная с 14\n",
    "routeDetails_df = routeDetails_df.drop_duplicates(ignore_index=True) #здесь дубликатов быть не должно, но на всякий случай\n",
    "#лучше предусмотреть и этот вариант\n",
    "routeDetails_df['route_id'] = razb_uch['ID_UCH_VOST_POL'] #добавляем столбец с id маршрута, к которому принадлежит данный\n",
    "#путь между остановками\n",
    "routeDetails_df.columns = routeDetails_df.columns.str.lower()#переводим названия колонок в нижний регистр, т.к. в БД\n",
    "#названия столбцов и таблиц записаны именно в нижнем\n",
    "routeDetails_df.to_sql('routedetails', con=engine, if_exists=if_exists_route_details, index=False) #записываем данные \n",
    "#из DataFrame в таблицу RouteDetails"
   ]
  },
  {
   "cell_type": "code",
   "execution_count": null,
   "metadata": {},
   "outputs": [],
   "source": []
  }
 ],
 "metadata": {
  "kernelspec": {
   "display_name": "Python 3",
   "language": "python",
   "name": "python3"
  },
  "language_info": {
   "codemirror_mode": {
    "name": "ipython",
    "version": 3
   },
   "file_extension": ".py",
   "mimetype": "text/x-python",
   "name": "python",
   "nbconvert_exporter": "python",
   "pygments_lexer": "ipython3",
   "version": "3.7.6"
  }
 },
 "nbformat": 4,
 "nbformat_minor": 4
}
